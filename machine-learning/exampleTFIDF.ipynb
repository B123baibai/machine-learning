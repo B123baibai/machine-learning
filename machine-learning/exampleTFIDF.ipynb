{
 "cells": [
  {
   "cell_type": "code",
   "execution_count": 5,
   "metadata": {},
   "outputs": [
    {
     "data": {
      "text/plain": [
       "['繁星 闪烁着', '深蓝 的 太空', '何曾 听得见 他们 对语', '沉默 中', '微光 里', '他们 深深 的 互相 颂赞 了']"
      ]
     },
     "metadata": {},
     "output_type": "display_data"
    }
   ],
   "source": [
    "import jieba\n",
    "text = \"\"\"繁星闪烁着\n",
    "深蓝的太空\n",
    "何曾听得见他们对语\n",
    "沉默中\n",
    "微光里\n",
    "他们深深的互相颂赞了\"\"\"\n",
    "sentences = text.split()\n",
    "sent_words = [list(jieba.cut(s)) for s in sentences]\n",
    "document = [\" \".join(s) for s in sent_words]\n",
    "display(document)\n"
   ]
  },
  {
   "cell_type": "code",
   "execution_count": 6,
   "metadata": {},
   "outputs": [
    {
     "name": "stdout",
     "output_type": "stream",
     "text": [
      "{'繁星': 10, '闪烁着': 11, '深蓝': 9, '太空': 4, '何曾': 2, '听得见': 3, '他们': 1, '对语': 5, '沉默': 7, '微光': 6, '深深': 8, '互相': 0, '颂赞': 12}\n"
     ]
    }
   ],
   "source": [
    "from sklearn.feature_extraction.text import CountVectorizer, TfidfVectorizer\n",
    "tfidf_model = TfidfVectorizer().fit(document)\n",
    "print(tfidf_model.vocabulary_)"
   ]
  },
  {
   "cell_type": "code",
   "execution_count": 7,
   "metadata": {},
   "outputs": [
    {
     "name": "stdout",
     "output_type": "stream",
     "text": [
      "  (0, 11)\t0.707106781187\n",
      "  (0, 10)\t0.707106781187\n",
      "  (1, 9)\t0.707106781187\n",
      "  (1, 4)\t0.707106781187\n",
      "  (2, 5)\t0.521823488025\n",
      "  (2, 3)\t0.521823488025\n",
      "  (2, 2)\t0.521823488025\n",
      "  (2, 1)\t0.427902724969\n",
      "  (3, 7)\t1.0\n",
      "  (4, 6)\t1.0\n",
      "  (5, 12)\t0.521823488025\n",
      "  (5, 8)\t0.521823488025\n",
      "  (5, 1)\t0.427902724969\n",
      "  (5, 0)\t0.521823488025\n"
     ]
    }
   ],
   "source": [
    "sparse_result = tfidf_model.transform(document)\n",
    "print(sparse_result)"
   ]
  },
  {
   "cell_type": "code",
   "execution_count": 8,
   "metadata": {},
   "outputs": [
    {
     "name": "stdout",
     "output_type": "stream",
     "text": [
      "[[ 0.          0.          0.          0.          0.          0.          0.\n",
      "   0.          0.          0.          0.70710678  0.70710678  0.        ]\n",
      " [ 0.          0.          0.          0.          0.70710678  0.          0.\n",
      "   0.          0.          0.70710678  0.          0.          0.        ]\n",
      " [ 0.          0.42790272  0.52182349  0.52182349  0.          0.52182349\n",
      "   0.          0.          0.          0.          0.          0.          0.        ]\n",
      " [ 0.          0.          0.          0.          0.          0.          0.\n",
      "   1.          0.          0.          0.          0.          0.        ]\n",
      " [ 0.          0.          0.          0.          0.          0.          1.\n",
      "   0.          0.          0.          0.          0.          0.        ]\n",
      " [ 0.52182349  0.42790272  0.          0.          0.          0.          0.\n",
      "   0.          0.52182349  0.          0.          0.          0.52182349]]\n"
     ]
    }
   ],
   "source": [
    "print(sparse_result.todense())"
   ]
  },
  {
   "cell_type": "code",
   "execution_count": null,
   "metadata": {
    "collapsed": true
   },
   "outputs": [],
   "source": []
  }
 ],
 "metadata": {
  "kernelspec": {
   "display_name": "Python 3",
   "language": "python",
   "name": "python3"
  },
  "language_info": {
   "codemirror_mode": {
    "name": "ipython",
    "version": 3
   },
   "file_extension": ".py",
   "mimetype": "text/x-python",
   "name": "python",
   "nbconvert_exporter": "python",
   "pygments_lexer": "ipython3",
   "version": "3.6.3"
  }
 },
 "nbformat": 4,
 "nbformat_minor": 2
}
